{
 "cells": [
  {
   "cell_type": "markdown",
   "metadata": {},
   "source": [
    "## Stack"
   ]
  },
  {
   "cell_type": "code",
   "execution_count": 45,
   "metadata": {},
   "outputs": [],
   "source": [
    "class Node:\n",
    "    def __init__(self, item, link):\n",
    "        self.item = item\n",
    "        self.next = link\n",
    "        \n",
    "class Stack:\n",
    "    def __init__(self):\n",
    "        self.top = None\n",
    "        self.d_size = 0\n",
    "        \n",
    "    def push(self, item):\n",
    "        self.top = Node(item, self.top)\n",
    "        self.d_size += 1\n",
    "        \n",
    "    def peek(self):\n",
    "        if self.d_size != 0:\n",
    "            return self.top.item\n",
    "    \n",
    "    def pop(self):\n",
    "        if self.d_size == 0:\n",
    "            return \n",
    "        else:\n",
    "            remove_item = self.top\n",
    "            self.top = self.top.next\n",
    "            self.d_size -= 1\n",
    "            return remove_item.item\n",
    "        \n",
    "    def print_stack(self):\n",
    "        print('top ->', end='')\n",
    "        p = self.top\n",
    "        while p:\n",
    "            if p.next != None:\n",
    "                print(p.item, '->', end='')\n",
    "            else:\n",
    "                print(p.item, end='')\n",
    "            p = p.next\n",
    "        print()\n",
    "        "
   ]
  },
  {
   "cell_type": "code",
   "execution_count": 78,
   "metadata": {},
   "outputs": [],
   "source": [
    "s = Stack()"
   ]
  },
  {
   "cell_type": "code",
   "execution_count": 79,
   "metadata": {},
   "outputs": [
    {
     "name": "stdout",
     "output_type": "stream",
     "text": [
      "apple,orange,cherry push 후: top ->cherry ->orange ->apple\n"
     ]
    }
   ],
   "source": [
    "s.push('apple')\n",
    "s.push('orange')\n",
    "s.push('cherry')\n",
    "print('apple,orange,cherry push 후:', end=' ')\n",
    "s.print_stack()"
   ]
  },
  {
   "cell_type": "code",
   "execution_count": 80,
   "metadata": {},
   "outputs": [
    {
     "data": {
      "text/plain": [
       "'cherry'"
      ]
     },
     "execution_count": 80,
     "metadata": {},
     "output_type": "execute_result"
    }
   ],
   "source": [
    "s.peek()"
   ]
  },
  {
   "cell_type": "code",
   "execution_count": 81,
   "metadata": {},
   "outputs": [
    {
     "data": {
      "text/plain": [
       "'cherry'"
      ]
     },
     "execution_count": 81,
     "metadata": {},
     "output_type": "execute_result"
    }
   ],
   "source": [
    "s.pop()"
   ]
  },
  {
   "cell_type": "code",
   "execution_count": 82,
   "metadata": {},
   "outputs": [
    {
     "name": "stdout",
     "output_type": "stream",
     "text": [
      "pear 추가 후 top item:pear\n",
      "pear 추가 후: top ->pear ->orange ->apple\n"
     ]
    }
   ],
   "source": [
    "s.push('pear')\n",
    "top = s.peek()\n",
    "print('pear 추가 후 top item:', end='')\n",
    "print(top)\n",
    "print('pear 추가 후: ', end='')\n",
    "s.print_stack()"
   ]
  },
  {
   "cell_type": "markdown",
   "metadata": {},
   "source": [
    "# Queue"
   ]
  },
  {
   "cell_type": "code",
   "execution_count": 105,
   "metadata": {},
   "outputs": [],
   "source": [
    "class Queue:\n",
    "    def __init__(self):\n",
    "        self.front = None\n",
    "        self.back = None\n",
    "        self.d_size = 0\n",
    "        \n",
    "    def add(self, item):\n",
    "        new_node = Node(item, None)\n",
    "        if self.d_size == 0:\n",
    "            self.front = new_node\n",
    "        else:\n",
    "            self.back.next = new_node\n",
    "        self.back = new_node\n",
    "        self.d_size += 1\n",
    "        \n",
    "    def remove(self):\n",
    "        if self.d_size != 0:\n",
    "            fitem = self.front.item\n",
    "            front = self.front.next\n",
    "            self.d_size -= 1\n",
    "            if self.d_size == 0:\n",
    "                self.back = None\n",
    "            return fitem\n",
    "        \n",
    "    def print_q(self):\n",
    "        p = self.front\n",
    "        print('front: ',end='')\n",
    "        while p:\n",
    "            if p.next != None:\n",
    "                print(p.item,'->', end='')\n",
    "            else:\n",
    "                print(p.item, end='')\n",
    "            p = p.next\n",
    "        print(' :back')\n",
    "        \n",
    "            \n",
    "            \n",
    "            "
   ]
  },
  {
   "cell_type": "code",
   "execution_count": 115,
   "metadata": {},
   "outputs": [],
   "source": [
    "q = Queue()"
   ]
  },
  {
   "cell_type": "code",
   "execution_count": 116,
   "metadata": {},
   "outputs": [
    {
     "name": "stdout",
     "output_type": "stream",
     "text": [
      "front: apple ->orange ->banana :back\n"
     ]
    },
    {
     "data": {
      "text/plain": [
       "'apple'"
      ]
     },
     "execution_count": 116,
     "metadata": {},
     "output_type": "execute_result"
    }
   ],
   "source": [
    "q.add('apple')\n",
    "q.add('orange')\n",
    "q.add('banana')\n",
    "q.print_q()\n",
    "q.remove()"
   ]
  },
  {
   "cell_type": "code",
   "execution_count": 117,
   "metadata": {},
   "outputs": [
    {
     "name": "stdout",
     "output_type": "stream",
     "text": [
      "front: apple ->orange ->banana :back\n"
     ]
    }
   ],
   "source": [
    "q.print_q()"
   ]
  },
  {
   "cell_type": "code",
   "execution_count": null,
   "metadata": {},
   "outputs": [],
   "source": []
  }
 ],
 "metadata": {
  "kernelspec": {
   "display_name": "Python 3",
   "language": "python",
   "name": "python3"
  },
  "language_info": {
   "codemirror_mode": {
    "name": "ipython",
    "version": 3
   },
   "file_extension": ".py",
   "mimetype": "text/x-python",
   "name": "python",
   "nbconvert_exporter": "python",
   "pygments_lexer": "ipython3",
   "version": "3.6.5"
  }
 },
 "nbformat": 4,
 "nbformat_minor": 2
}
