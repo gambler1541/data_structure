{
 "cells": [
  {
   "cell_type": "markdown",
   "metadata": {},
   "source": [
    "## Stack의 응용"
   ]
  },
  {
   "cell_type": "code",
   "execution_count": 3,
   "metadata": {},
   "outputs": [
    {
     "name": "stdout",
     "output_type": "stream",
     "text": [
      "{2*{3+(4-5)*6+{7(8-9)//10}*2}+3} is Ok\n"
     ]
    }
   ],
   "source": [
    "astr=\"{2*{3+(4-5)*6+{7(8-9)//10}*2}+3}\"\n",
    "stack=[]\n",
    "top=0\n",
    "for ch in astr:\n",
    "    if ch=='':\n",
    "        continue\n",
    "    if ch=='('or ch=='{'or ch=='[':\n",
    "        stack.append(ch)\n",
    "        top += 1\n",
    "    elif ch ==')'or ch=='}' or ch==']':\n",
    "        ch2 = stack[top-1]\n",
    "        if (ch==')' and ch2=='(')\\\n",
    "        or (ch=='}' and ch2 == '{')\\\n",
    "        or (ch==']' and ch2 == '['):\n",
    "            stack.pop()\n",
    "            top=top-1\n",
    "if not stack:\n",
    "    print(astr, 'is Ok')\n",
    "else:\n",
    "    print(astr, 'is not ok')"
   ]
  },
  {
   "cell_type": "code",
   "execution_count": null,
   "metadata": {},
   "outputs": [],
   "source": []
  }
 ],
 "metadata": {
  "kernelspec": {
   "display_name": "Python 3",
   "language": "python",
   "name": "python3"
  },
  "language_info": {
   "codemirror_mode": {
    "name": "ipython",
    "version": 3
   },
   "file_extension": ".py",
   "mimetype": "text/x-python",
   "name": "python",
   "nbconvert_exporter": "python",
   "pygments_lexer": "ipython3",
   "version": "3.6.5"
  }
 },
 "nbformat": 4,
 "nbformat_minor": 2
}
