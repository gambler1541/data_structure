{
 "cells": [
  {
   "cell_type": "code",
   "execution_count": 16,
   "metadata": {},
   "outputs": [],
   "source": [
    "class Slist:\n",
    "    class Node:\n",
    "        def __init__(self, item, link):\n",
    "            self.item = item\n",
    "            self.next = link\n",
    "            \n",
    "    def __init__(self):\n",
    "        self.head = None\n",
    "        self.size = 0\n",
    "        \n",
    "    def d_szie(self):\n",
    "        return self.size\n",
    "    \n",
    "    def is_empty(self):\n",
    "        if self.d_szie() == 0:\n",
    "            return True\n",
    "    \n",
    "    def search(self, target):\n",
    "        p = self.head\n",
    "        for i in range(self.size):\n",
    "            if target == p.item:\n",
    "                return f'{i+1}번째 item은 {target}'\n",
    "            p = p.next\n",
    "        return None\n",
    "    \n",
    "    def insert_front(self, item):\n",
    "        if self.is_empty() == True:\n",
    "            self.head = self.Node(item, None)\n",
    "        else:\n",
    "            self.head = self.Node(item, self.head)\n",
    "        self.size += 1\n"
   ]
  },
  {
   "cell_type": "code",
   "execution_count": 17,
   "metadata": {},
   "outputs": [],
   "source": [
    "s = Slist()"
   ]
  },
  {
   "cell_type": "code",
   "execution_count": 18,
   "metadata": {},
   "outputs": [
    {
     "data": {
      "text/plain": [
       "'1번째 item은 바나나'"
      ]
     },
     "execution_count": 18,
     "metadata": {},
     "output_type": "execute_result"
    }
   ],
   "source": [
    "s.insert_front('바나나')\n",
    "s.search('바나나')"
   ]
  },
  {
   "cell_type": "code",
   "execution_count": null,
   "metadata": {},
   "outputs": [],
   "source": []
  }
 ],
 "metadata": {
  "kernelspec": {
   "display_name": "Python 3",
   "language": "python",
   "name": "python3"
  },
  "language_info": {
   "codemirror_mode": {
    "name": "ipython",
    "version": 3
   },
   "file_extension": ".py",
   "mimetype": "text/x-python",
   "name": "python",
   "nbconvert_exporter": "python",
   "pygments_lexer": "ipython3",
   "version": "3.6.5"
  }
 },
 "nbformat": 4,
 "nbformat_minor": 2
}
